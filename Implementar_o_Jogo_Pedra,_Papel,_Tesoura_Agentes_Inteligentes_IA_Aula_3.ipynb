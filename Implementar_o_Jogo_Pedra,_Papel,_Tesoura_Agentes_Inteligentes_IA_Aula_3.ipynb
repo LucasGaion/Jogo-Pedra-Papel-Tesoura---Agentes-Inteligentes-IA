{
  "nbformat": 4,
  "nbformat_minor": 0,
  "metadata": {
    "colab": {
      "provenance": [],
      "authorship_tag": "ABX9TyOBhtTmRtoorH+Ae7DrRrDN",
      "include_colab_link": true
    },
    "kernelspec": {
      "name": "python3",
      "display_name": "Python 3"
    },
    "language_info": {
      "name": "python"
    }
  },
  "cells": [
    {
      "cell_type": "markdown",
      "metadata": {
        "id": "view-in-github",
        "colab_type": "text"
      },
      "source": [
        "<a href=\"https://colab.research.google.com/github/LucasGaion/Jogo-Pedra-Papel-Tesoura---Agentes-Inteligentes-IA/blob/main/Implementar_o_Jogo_Pedra%2C_Papel%2C_Tesoura_Agentes_Inteligentes_IA_Aula_3.ipynb\" target=\"_parent\"><img src=\"https://colab.research.google.com/assets/colab-badge.svg\" alt=\"Open In Colab\"/></a>"
      ]
    },
    {
      "cell_type": "code",
      "execution_count": null,
      "metadata": {
        "id": "7TFrjBAVtJvD"
      },
      "outputs": [],
      "source": []
    },
    {
      "cell_type": "code",
      "source": [
        "import random\n",
        "\n",
        "def jogo_pedra_papel_tesoura(escolha_jogador):\n",
        "    opcoes = ['pedra', 'papel', 'tesoura']\n",
        "    escolha_computador = random.choice(opcoes)\n",
        "\n",
        "    print(f'Jogador escolheu: {escolha_jogador}')\n",
        "    print(f'Computador escolheu: {escolha_computador}')\n",
        "\n",
        "    if escolha_jogador == escolha_computador:\n",
        "        return 'Empate!'\n",
        "    elif (escolha_jogador == 'pedra' and escolha_computador == 'tesoura') or \\\n",
        "         (escolha_jogador == 'papel' and escolha_computador == 'pedra') or \\\n",
        "         (escolha_jogador == 'tesoura' and escolha_computador == 'papel'):\n",
        "        return 'Jogador vence!'\n",
        "    else:\n",
        "        return 'Computador vence!'\n",
        "\n",
        "escolha_do_jogador = input('Escolha entre pedra, papel ou tesoura: ').lower()\n",
        "resultado = jogo_pedra_papel_tesoura(escolha_do_jogador)\n",
        "print(resultado)\n"
      ],
      "metadata": {
        "colab": {
          "base_uri": "https://localhost:8080/"
        },
        "id": "mL8Y4YiXthU0",
        "outputId": "e36cfb0a-c643-4ff5-ac78-e9a350e2cc95"
      },
      "execution_count": 41,
      "outputs": [
        {
          "output_type": "stream",
          "name": "stdout",
          "text": [
            "Escolha entre pedra, papel ou tesoura: pedra\n",
            "Jogador escolheu: pedra\n",
            "Computador escolheu: papel\n",
            "Computador vence!\n"
          ]
        }
      ]
    },
    {
      "cell_type": "markdown",
      "source": [],
      "metadata": {
        "id": "wnugBedkuU7R"
      }
    }
  ]
}